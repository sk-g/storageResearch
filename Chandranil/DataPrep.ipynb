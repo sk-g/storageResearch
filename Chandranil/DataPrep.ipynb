{
 "cells": [
  {
   "cell_type": "code",
   "execution_count": 1,
   "metadata": {},
   "outputs": [
    {
     "name": "stderr",
     "output_type": "stream",
     "text": [
      "C:\\Users\\Chandranil\\Anaconda3\\lib\\site-packages\\h5py\\__init__.py:36: FutureWarning: Conversion of the second argument of issubdtype from `float` to `np.floating` is deprecated. In future, it will be treated as `np.float64 == np.dtype(float).type`.\n",
      "  from ._conv import register_converters as _register_converters\n",
      "Using TensorFlow backend.\n"
     ]
    }
   ],
   "source": [
    "from keras.preprocessing import sequence\n",
    "from keras.models import Sequential\n",
    "from keras.layers import Dense, Embedding\n",
    "from keras.layers import LSTM\n",
    "from keras.datasets import imdb\n",
    "import numpy as np\n",
    "\n"
   ]
  },
  {
   "cell_type": "code",
   "execution_count": 2,
   "metadata": {},
   "outputs": [
    {
     "name": "stdout",
     "output_type": "stream",
     "text": [
      "['D:\\\\Traces\\\\Alldata\\\\output_1.csv', 'D:\\\\Traces\\\\Alldata\\\\output_2.csv', 'D:\\\\Traces\\\\Alldata\\\\output_3.csv', 'D:\\\\Traces\\\\Alldata\\\\output_4.csv']\n",
      "['Operation', 'TimeStamp', 'ProcessName', 'ThreadID', 'IrpPtr', 'ByteOffset', 'IOSize', 'ElapsedTime', 'DiskNum', 'IrpFlags', 'DiskSvcTime', 'IOPri', ' VolSnap', 'FileObject', ' FileName']\n"
     ]
    }
   ],
   "source": [
    "import csv\n",
    "import sys\n",
    "import pandas as pd\n",
    "import os\n",
    "import glob\n",
    "\n",
    "path  = r\"D:\\Traces\\Alldata\" \n",
    "path2  = r\"D:\\Traces\\Alldata\\output\"\n",
    "filename_wr = os.path.join(path2,'output.csv')\n",
    "\n",
    "#filename_rd = os.path.join(path,'A.trace.csv')\n",
    "names = ['Operation', 'TimeStamp', 'ProcessName', 'ThreadID', 'IrpPtr' , 'ByteOffset', 'IOSize','ElapsedTime', 'DiskNum', 'IrpFlags', 'DiskSvcTime', 'IOPri' , ' VolSnap', 'FileObject', ' FileName']\n",
    "\n",
    "#df = pd.read_csv(filename_rd,engine='python',header=None,skiprows = 73,names=names,na_values=['-1'], index_col=False)\n",
    "\n",
    "\n",
    "all_files = glob.glob(os.path.join(path, \"*.csv\"))     # advisable to use os.path.join as this makes concatenation OS independent\n",
    "print(all_files)\n",
    "df_from_each_file = (pd.read_csv(f,engine='python',header=None,names=names,na_values=['-1'], index_col=False) for f in all_files)\n",
    "concatenated_df   = pd.concat(df_from_each_file, ignore_index=True)\n",
    "\n",
    "\n",
    "concatenated_df.columns = names\n",
    "\n",
    "\n",
    "\n",
    "headers = list(concatenated_df.columns.values)\n",
    "print(headers)\n",
    "\n",
    "#skiprows=lambda x: x % 2 != 0"
   ]
  },
  {
   "cell_type": "code",
   "execution_count": 3,
   "metadata": {},
   "outputs": [
    {
     "name": "stdout",
     "output_type": "stream",
     "text": [
      "Before drop: Index(['Operation', 'TimeStamp', 'ProcessName', 'ThreadID', 'IrpPtr',\n",
      "       'ByteOffset', 'IOSize', 'ElapsedTime', 'DiskNum', 'IrpFlags',\n",
      "       'DiskSvcTime', 'IOPri', ' VolSnap', 'FileObject', ' FileName'],\n",
      "      dtype='object')\n",
      "After drop: Index(['Operation', 'TimeStamp', 'ProcessName', 'ThreadID', 'IrpPtr',\n",
      "       'ByteOffset', 'IOSize', 'ElapsedTime'],\n",
      "      dtype='object')\n"
     ]
    }
   ],
   "source": [
    "print(\"Before drop: {}\".format(concatenated_df.columns))\n",
    "\n",
    "concatenated_df.drop(concatenated_df.columns[[8,9,10,11,12,13,14]], axis=1, inplace=True)\n",
    "print(\"After drop: {}\".format(concatenated_df.columns))"
   ]
  },
  {
   "cell_type": "code",
   "execution_count": 4,
   "metadata": {},
   "outputs": [
    {
     "data": {
      "text/plain": [
       "(1031881, 8)"
      ]
     },
     "execution_count": 4,
     "metadata": {},
     "output_type": "execute_result"
    }
   ],
   "source": [
    "concatenated_df.shape"
   ]
  },
  {
   "cell_type": "code",
   "execution_count": 5,
   "metadata": {},
   "outputs": [
    {
     "name": "stdout",
     "output_type": "stream",
     "text": [
      "Starting file:\n",
      "   Operation  TimeStamp  ProcessName  ThreadID               IrpPtr  \\\n",
      "0  Operation  TimeStamp  ProcessName  ThreadID               IrpPtr   \n",
      "1          0     153302      p1 ( 4)        36   1.2740074430687651   \n",
      "2          0     153756   p0 (21316)      7552   0.8872597941837778   \n",
      "3          0     160029   p0 (21316)      7552   0.8872597941837778   \n",
      "4          0     160057      p1 ( 4)        36   1.0351586121885508   \n",
      "5          0     165085   p0 (21316)      7552  -1.1799920460750726   \n",
      "6          0     171596   p0 (21316)      7552  -1.1799920460750726   \n",
      "7          0     177048   p0 (21316)      7552   1.2740074430687651   \n",
      "8          0     182217   p0 (21316)      7552  -1.1849066994192514   \n",
      "9          0     184062   p0 (21316)      7552  -1.1849066994192514   \n",
      "\n",
      "             ByteOffset                IOSize           ElapsedTime  \n",
      "0            ByteOffset                IOSize           ElapsedTime  \n",
      "1  -0.17570138803562596  -0.17570138803562596    0.1996348048333786  \n",
      "2  -0.17570138803562596  -0.17570138803562596   0.23489880763531673  \n",
      "3  -0.17570138803562596  -0.17570138803562596   0.25396043077149955  \n",
      "4  -0.17570138803562596  -0.17570138803562596    0.2876586573872512  \n",
      "5  -0.17570138803562596  -0.17570138803562596   0.16083078630614936  \n",
      "6  -0.17570138803562596  -0.17570138803562596   0.27132012327052313  \n",
      "7     0.777129872515417     0.777129872515417   0.19909018702948766  \n",
      "8  -0.17570138803562596  -0.17570138803562596    0.1801647183442776  \n",
      "9    1.3216048785445844    1.3216048785445844  -0.04680475142727023  \n",
      "Ending file:\n",
      "        Operation TimeStamp  ProcessName ThreadID               IrpPtr  \\\n",
      "1031871         1  83299250     p11 ( 4)    21132     1.22664597257639   \n",
      "1031872         1  83299678     p11 ( 4)    21132   1.2074901928681212   \n",
      "1031873         1  83300059     p11 ( 4)    21132   1.2422406064822973   \n",
      "1031874         1  83300639     p11 ( 4)    21132   1.2422406064822973   \n",
      "1031875         0  83309192   p0 (16000)    19868  -0.9132695196488028   \n",
      "1031876         0  83312078   p27 (9256)    18848  -1.2141018054340773   \n",
      "1031877         0  83321242   p27 (9256)    18848  -1.2141018054340773   \n",
      "1031878         0  83322451   p0 (16000)    19868  -1.2560208321163968   \n",
      "1031879         0  83329423   p27 (9256)    18848   1.2107213090260722   \n",
      "1031880         0  83330629   p0 (16000)    19868   1.2107213090260722   \n",
      "\n",
      "                    ByteOffset                 IOSize           ElapsedTime  \n",
      "1031871    -0.0980215729099087    -0.0980215729099087   -0.1625788296414733  \n",
      "1031872    -0.0980215729099087    -0.0980215729099087   -0.1625788296414733  \n",
      "1031873    -0.0980215729099087    -0.0980215729099087  -0.16284482442208276  \n",
      "1031874    -0.0980215729099087    -0.0980215729099087  -0.16158134921418782  \n",
      "1031875   -0.12488547065886993   -0.12488547065886993    0.4117039016943448  \n",
      "1031876    0.15270813941372915    0.15270813941372915   0.42613411854240785  \n",
      "1031877    0.15270813941372915    0.15270813941372915   0.39767267701719594  \n",
      "1031878    -0.0980215729099087    -0.0980215729099087    0.6507667107670945  \n",
      "1031879  -0.062203042577960437  -0.062203042577960437   0.27877301008476857  \n",
      "1031880    -0.0980215729099087    -0.0980215729099087   -0.1498775788673717  \n"
     ]
    }
   ],
   "source": [
    "print(\"Starting file:\")\n",
    "print(concatenated_df[0:10])\n",
    "\n",
    "print(\"Ending file:\")\n",
    "print(concatenated_df[-10:])"
   ]
  },
  {
   "cell_type": "code",
   "execution_count": 6,
   "metadata": {},
   "outputs": [],
   "source": [
    "df = concatenated_df"
   ]
  },
  {
   "cell_type": "code",
   "execution_count": 7,
   "metadata": {
    "scrolled": true
   },
   "outputs": [
    {
     "data": {
      "text/plain": [
       "(1031881, 8)"
      ]
     },
     "execution_count": 7,
     "metadata": {},
     "output_type": "execute_result"
    }
   ],
   "source": [
    "df.shape"
   ]
  },
  {
   "cell_type": "code",
   "execution_count": 8,
   "metadata": {},
   "outputs": [
    {
     "ename": "KeyboardInterrupt",
     "evalue": "",
     "output_type": "error",
     "traceback": [
      "\u001b[1;31m---------------------------------------------------------------------------\u001b[0m",
      "\u001b[1;31mKeyboardInterrupt\u001b[0m                         Traceback (most recent call last)",
      "\u001b[1;32m<ipython-input-8-aa42a39b3622>\u001b[0m in \u001b[0;36m<module>\u001b[1;34m()\u001b[0m\n\u001b[0;32m     10\u001b[0m         \u001b[0mdf\u001b[0m\u001b[1;33m.\u001b[0m\u001b[0mat\u001b[0m\u001b[1;33m[\u001b[0m\u001b[0mindex\u001b[0m\u001b[1;33m,\u001b[0m \u001b[1;34m'Operation'\u001b[0m\u001b[1;33m]\u001b[0m \u001b[1;33m=\u001b[0m \u001b[1;36m1\u001b[0m\u001b[1;33m\u001b[0m\u001b[0m\n\u001b[0;32m     11\u001b[0m     \u001b[1;32melse\u001b[0m \u001b[1;33m:\u001b[0m\u001b[1;33m\u001b[0m\u001b[0m\n\u001b[1;32m---> 12\u001b[1;33m         \u001b[0mdf\u001b[0m\u001b[1;33m.\u001b[0m\u001b[0mdrop\u001b[0m\u001b[1;33m(\u001b[0m\u001b[0mcount\u001b[0m\u001b[1;33m,\u001b[0m\u001b[0minplace\u001b[0m\u001b[1;33m=\u001b[0m \u001b[1;32mTrue\u001b[0m\u001b[1;33m)\u001b[0m\u001b[1;33m\u001b[0m\u001b[0m\n\u001b[0m\u001b[0;32m     13\u001b[0m \u001b[1;33m\u001b[0m\u001b[0m\n\u001b[0;32m     14\u001b[0m \u001b[1;33m\u001b[0m\u001b[0m\n",
      "\u001b[1;32m~\\Anaconda3\\lib\\site-packages\\pandas\\core\\generic.py\u001b[0m in \u001b[0;36mdrop\u001b[1;34m(self, labels, axis, index, columns, level, inplace, errors)\u001b[0m\n\u001b[0;32m   2528\u001b[0m         \u001b[1;32mfor\u001b[0m \u001b[0maxis\u001b[0m\u001b[1;33m,\u001b[0m \u001b[0mlabels\u001b[0m \u001b[1;32min\u001b[0m \u001b[0maxes\u001b[0m\u001b[1;33m.\u001b[0m\u001b[0mitems\u001b[0m\u001b[1;33m(\u001b[0m\u001b[1;33m)\u001b[0m\u001b[1;33m:\u001b[0m\u001b[1;33m\u001b[0m\u001b[0m\n\u001b[0;32m   2529\u001b[0m             \u001b[1;32mif\u001b[0m \u001b[0mlabels\u001b[0m \u001b[1;32mis\u001b[0m \u001b[1;32mnot\u001b[0m \u001b[1;32mNone\u001b[0m\u001b[1;33m:\u001b[0m\u001b[1;33m\u001b[0m\u001b[0m\n\u001b[1;32m-> 2530\u001b[1;33m                 \u001b[0mobj\u001b[0m \u001b[1;33m=\u001b[0m \u001b[0mobj\u001b[0m\u001b[1;33m.\u001b[0m\u001b[0m_drop_axis\u001b[0m\u001b[1;33m(\u001b[0m\u001b[0mlabels\u001b[0m\u001b[1;33m,\u001b[0m \u001b[0maxis\u001b[0m\u001b[1;33m,\u001b[0m \u001b[0mlevel\u001b[0m\u001b[1;33m=\u001b[0m\u001b[0mlevel\u001b[0m\u001b[1;33m,\u001b[0m \u001b[0merrors\u001b[0m\u001b[1;33m=\u001b[0m\u001b[0merrors\u001b[0m\u001b[1;33m)\u001b[0m\u001b[1;33m\u001b[0m\u001b[0m\n\u001b[0m\u001b[0;32m   2531\u001b[0m \u001b[1;33m\u001b[0m\u001b[0m\n\u001b[0;32m   2532\u001b[0m         \u001b[1;32mif\u001b[0m \u001b[0minplace\u001b[0m\u001b[1;33m:\u001b[0m\u001b[1;33m\u001b[0m\u001b[0m\n",
      "\u001b[1;32m~\\Anaconda3\\lib\\site-packages\\pandas\\core\\generic.py\u001b[0m in \u001b[0;36m_drop_axis\u001b[1;34m(self, labels, axis, level, errors)\u001b[0m\n\u001b[0;32m   2554\u001b[0m         \u001b[0maxis\u001b[0m\u001b[1;33m,\u001b[0m \u001b[0maxis_\u001b[0m \u001b[1;33m=\u001b[0m \u001b[0mself\u001b[0m\u001b[1;33m.\u001b[0m\u001b[0m_get_axis\u001b[0m\u001b[1;33m(\u001b[0m\u001b[0maxis\u001b[0m\u001b[1;33m)\u001b[0m\u001b[1;33m,\u001b[0m \u001b[0maxis\u001b[0m\u001b[1;33m\u001b[0m\u001b[0m\n\u001b[0;32m   2555\u001b[0m \u001b[1;33m\u001b[0m\u001b[0m\n\u001b[1;32m-> 2556\u001b[1;33m         \u001b[1;32mif\u001b[0m \u001b[0maxis\u001b[0m\u001b[1;33m.\u001b[0m\u001b[0mis_unique\u001b[0m\u001b[1;33m:\u001b[0m\u001b[1;33m\u001b[0m\u001b[0m\n\u001b[0m\u001b[0;32m   2557\u001b[0m             \u001b[1;32mif\u001b[0m \u001b[0mlevel\u001b[0m \u001b[1;32mis\u001b[0m \u001b[1;32mnot\u001b[0m \u001b[1;32mNone\u001b[0m\u001b[1;33m:\u001b[0m\u001b[1;33m\u001b[0m\u001b[0m\n\u001b[0;32m   2558\u001b[0m                 \u001b[1;32mif\u001b[0m \u001b[1;32mnot\u001b[0m \u001b[0misinstance\u001b[0m\u001b[1;33m(\u001b[0m\u001b[0maxis\u001b[0m\u001b[1;33m,\u001b[0m \u001b[0mMultiIndex\u001b[0m\u001b[1;33m)\u001b[0m\u001b[1;33m:\u001b[0m\u001b[1;33m\u001b[0m\u001b[0m\n",
      "\u001b[1;32mpandas/_libs/properties.pyx\u001b[0m in \u001b[0;36mpandas._libs.properties.cache_readonly.__get__\u001b[1;34m()\u001b[0m\n",
      "\u001b[1;32m~\\Anaconda3\\lib\\site-packages\\pandas\\core\\indexes\\base.py\u001b[0m in \u001b[0;36mis_unique\u001b[1;34m(self)\u001b[0m\n\u001b[0;32m   1316\u001b[0m     \u001b[1;32mdef\u001b[0m \u001b[0mis_unique\u001b[0m\u001b[1;33m(\u001b[0m\u001b[0mself\u001b[0m\u001b[1;33m)\u001b[0m\u001b[1;33m:\u001b[0m\u001b[1;33m\u001b[0m\u001b[0m\n\u001b[0;32m   1317\u001b[0m         \u001b[1;34m\"\"\" return if the index has unique values \"\"\"\u001b[0m\u001b[1;33m\u001b[0m\u001b[0m\n\u001b[1;32m-> 1318\u001b[1;33m         \u001b[1;32mreturn\u001b[0m \u001b[0mself\u001b[0m\u001b[1;33m.\u001b[0m\u001b[0m_engine\u001b[0m\u001b[1;33m.\u001b[0m\u001b[0mis_unique\u001b[0m\u001b[1;33m\u001b[0m\u001b[0m\n\u001b[0m\u001b[0;32m   1319\u001b[0m \u001b[1;33m\u001b[0m\u001b[0m\n\u001b[0;32m   1320\u001b[0m     \u001b[1;33m@\u001b[0m\u001b[0mproperty\u001b[0m\u001b[1;33m\u001b[0m\u001b[0m\n",
      "\u001b[1;31mKeyboardInterrupt\u001b[0m: "
     ]
    }
   ],
   "source": [
    "count =-1\n",
    "\n",
    "for index, row in df.iterrows():\n",
    "    a2 = row['Operation']\n",
    "    count=count+1\n",
    "\n",
    "    if (a2.strip() == 'DiskRead'):\n",
    "        df.at[index, 'Operation'] = 0\n",
    "    elif (a2.strip() == 'DiskWrite'): \n",
    "        df.at[index, 'Operation'] = 1\n",
    "    else :\n",
    "        df.drop(count,inplace= True)\n",
    "\n",
    "        "
   ]
  },
  {
   "cell_type": "code",
   "execution_count": null,
   "metadata": {},
   "outputs": [],
   "source": [
    "print(\"Ending file:\")\n",
    "print(concatenated_df[-10:])"
   ]
  },
  {
   "cell_type": "code",
   "execution_count": null,
   "metadata": {},
   "outputs": [],
   "source": [
    "df.to_csv(filename_wr,index=False)"
   ]
  },
  {
   "cell_type": "code",
   "execution_count": null,
   "metadata": {},
   "outputs": [],
   "source": [
    "# Data Filtering for IrpPte\n",
    "\n",
    " \n",
    "for index, row in df.iterrows():\n",
    "    a = (row['IrpPtr'])\n",
    "    a1 = int(a,16) - 18440000000000000000\n",
    "    df.at[index, 'IrpPtr'] = a1\n",
    "    b = (row['IOSize'])\n",
    "    b1 = int(b,16) \n",
    "    df.at[index, 'IOSize'] = b1\n",
    "    c = (row['ByteOffset'])\n",
    "    c1 = int(b,16) \n",
    "    df.at[index, 'ByteOffset'] = c1\n",
    "\n",
    "filename_wr = os.path.join(path2,'output.csv')\n",
    "print(df[0:10])\n"
   ]
  },
  {
   "cell_type": "code",
   "execution_count": null,
   "metadata": {},
   "outputs": [],
   "source": [
    "df.to_csv(filename_wr,index=False)\n",
    "df = pd.read_csv(filename_wr,engine='python',index_col=False)\n",
    "df.dtypes"
   ]
  },
  {
   "cell_type": "code",
   "execution_count": null,
   "metadata": {},
   "outputs": [],
   "source": [
    "df['IOSize'] = df['IOSize']/512\n",
    "df['ByteOffset'] = df['ByteOffset']/512"
   ]
  },
  {
   "cell_type": "code",
   "execution_count": null,
   "metadata": {},
   "outputs": [],
   "source": [
    "#Normalizing IO Size\n",
    "mean = df['IOSize'].mean(axis=0)\n",
    "df['IOSize'] -= mean\n",
    "std = df['IOSize'].std(axis=0)\n",
    "df['IOSize'] /= std"
   ]
  },
  {
   "cell_type": "code",
   "execution_count": null,
   "metadata": {},
   "outputs": [],
   "source": [
    "#Normalizing IrpPtr\n",
    "mean = df['IrpPtr'].mean(axis=0)\n",
    "df['IrpPtr'] -= mean\n",
    "std = df['IrpPtr'].std(axis=0)\n",
    "df['IrpPtr'] /= std\n"
   ]
  },
  {
   "cell_type": "code",
   "execution_count": null,
   "metadata": {},
   "outputs": [],
   "source": [
    "print(df[10:50])"
   ]
  },
  {
   "cell_type": "code",
   "execution_count": null,
   "metadata": {},
   "outputs": [],
   "source": [
    "#Normalizing ByteOffset\n",
    "mean = df['ByteOffset'].mean(axis=0)\n",
    "df['ByteOffset'] -= mean\n",
    "std = df['ByteOffset'].std(axis=0)\n",
    "df['ByteOffset'] /= std\n"
   ]
  },
  {
   "cell_type": "code",
   "execution_count": null,
   "metadata": {},
   "outputs": [],
   "source": [
    "df.dtypes"
   ]
  },
  {
   "cell_type": "code",
   "execution_count": null,
   "metadata": {},
   "outputs": [],
   "source": [
    "df.to_csv(filename_wr,index=False)"
   ]
  },
  {
   "cell_type": "code",
   "execution_count": null,
   "metadata": {},
   "outputs": [],
   "source": [
    "df = pd.read_csv(filename_wr,engine='python',index_col=False)\n",
    "df.dtypes"
   ]
  },
  {
   "cell_type": "code",
   "execution_count": null,
   "metadata": {},
   "outputs": [],
   "source": [
    "#Normalizing Elapsed Time\n",
    "mean = df['ElapsedTime'].mean(axis=0)\n",
    "df['ElapsedTime'] -= mean\n",
    "std = df['ElapsedTime'].std(axis=0)\n",
    "df['ElapsedTime'] /= std"
   ]
  },
  {
   "cell_type": "code",
   "execution_count": null,
   "metadata": {},
   "outputs": [],
   "source": [
    "df.sort_values(by=['TimeStamp'])"
   ]
  },
  {
   "cell_type": "code",
   "execution_count": null,
   "metadata": {},
   "outputs": [],
   "source": [
    "df.to_csv(filename_wr,index=False)"
   ]
  },
  {
   "cell_type": "code",
   "execution_count": null,
   "metadata": {},
   "outputs": [],
   "source": [
    "print(\"Done!\")"
   ]
  },
  {
   "cell_type": "code",
   "execution_count": null,
   "metadata": {},
   "outputs": [],
   "source": [
    "df.shape"
   ]
  },
  {
   "cell_type": "code",
   "execution_count": null,
   "metadata": {},
   "outputs": [],
   "source": [
    "print(filename_wr)"
   ]
  },
  {
   "cell_type": "code",
   "execution_count": null,
   "metadata": {},
   "outputs": [],
   "source": []
  }
 ],
 "metadata": {
  "kernelspec": {
   "display_name": "Python 3",
   "language": "python",
   "name": "python3"
  },
  "language_info": {
   "codemirror_mode": {
    "name": "ipython",
    "version": 3
   },
   "file_extension": ".py",
   "mimetype": "text/x-python",
   "name": "python",
   "nbconvert_exporter": "python",
   "pygments_lexer": "ipython3",
   "version": "3.6.2"
  }
 },
 "nbformat": 4,
 "nbformat_minor": 2
}
