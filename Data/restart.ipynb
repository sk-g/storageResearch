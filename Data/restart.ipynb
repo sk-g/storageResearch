{
 "cells": [
  {
   "cell_type": "code",
   "execution_count": 1,
   "metadata": {},
   "outputs": [
    {
     "name": "stderr",
     "output_type": "stream",
     "text": [
      "Using TensorFlow backend.\n"
     ]
    }
   ],
   "source": [
    "import os\n",
    "import sys\n",
    "import collections\n",
    "import random\n",
    "import gc\n",
    "import bisect\n",
    "from math import sqrt\n",
    "\n",
    "import pandas as pd\n",
    "import numpy as np\n",
    "import seaborn as sns\n",
    "import matplotlib.pyplot as plt\n",
    "import pylab as pl\n",
    "\n",
    "import sklearn.svm\n",
    "from sklearn.linear_model import LinearRegression\n",
    "from sklearn.metrics import mean_squared_error\n",
    "\n",
    "\n",
    "from keras.models import Sequential\n",
    "from keras.layers import LSTM,Flatten,Dense,Embedding,GRU,BatchNormalization\n",
    "from keras.layers.convolutional import Conv1D\n",
    "from keras.layers.convolutional import MaxPooling1D\n",
    "from keras.optimizers import SGD\n",
    "\n",
    "\n",
    "%matplotlib inline\n",
    "\n",
    "\n",
    "#  ElapsedTime: Time from start event to completion event for a specific IO in microseconds\n",
    "#  Timestamp: Time from start of trace in microseconds\n",
    "# file is about data collected in 10 minutes\n",
    "# we can divide timescale into bins of millisecond range"
   ]
  },
  {
   "cell_type": "code",
   "execution_count": 2,
   "metadata": {},
   "outputs": [
    {
     "data": {
      "text/plain": [
       "['.ipynb_checkpoints',\n",
       " 'Microsoft',\n",
       " 'MSNStorageCFS_sortedFrame.csv',\n",
       " 'MSNStorageFileServer_sortedFrame.csv',\n",
       " 'restart.ipynb']"
      ]
     },
     "execution_count": 2,
     "metadata": {},
     "output_type": "execute_result"
    }
   ],
   "source": [
    "os.listdir()"
   ]
  },
  {
   "cell_type": "code",
   "execution_count": 3,
   "metadata": {},
   "outputs": [],
   "source": [
    "def loader(fname):\n",
    "    data = pd.read_csv(fname,usecols = ['TimeStamp',\n",
    "                                        'Disk Operation',\n",
    "                                        'Process Name ( PID)'],\n",
    "                      index_col = False,\n",
    "                      engine = 'python')\n",
    "    return data\n",
    "    "
   ]
  },
  {
   "cell_type": "code",
   "execution_count": 4,
   "metadata": {},
   "outputs": [
    {
     "data": {
      "text/html": [
       "<div>\n",
       "<style scoped>\n",
       "    .dataframe tbody tr th:only-of-type {\n",
       "        vertical-align: middle;\n",
       "    }\n",
       "\n",
       "    .dataframe tbody tr th {\n",
       "        vertical-align: top;\n",
       "    }\n",
       "\n",
       "    .dataframe thead th {\n",
       "        text-align: right;\n",
       "    }\n",
       "</style>\n",
       "<table border=\"1\" class=\"dataframe\">\n",
       "  <thead>\n",
       "    <tr style=\"text-align: right;\">\n",
       "      <th></th>\n",
       "      <th>Disk Operation</th>\n",
       "      <th>TimeStamp</th>\n",
       "      <th>Process Name ( PID)</th>\n",
       "    </tr>\n",
       "  </thead>\n",
       "  <tbody>\n",
       "    <tr>\n",
       "      <th>0</th>\n",
       "      <td>DiskRead</td>\n",
       "      <td>209710</td>\n",
       "      <td>p0</td>\n",
       "    </tr>\n",
       "    <tr>\n",
       "      <th>1</th>\n",
       "      <td>DiskRead</td>\n",
       "      <td>224548</td>\n",
       "      <td>p1</td>\n",
       "    </tr>\n",
       "    <tr>\n",
       "      <th>2</th>\n",
       "      <td>DiskRead</td>\n",
       "      <td>224909</td>\n",
       "      <td>p1</td>\n",
       "    </tr>\n",
       "    <tr>\n",
       "      <th>3</th>\n",
       "      <td>DiskRead</td>\n",
       "      <td>226255</td>\n",
       "      <td>p2</td>\n",
       "    </tr>\n",
       "    <tr>\n",
       "      <th>4</th>\n",
       "      <td>DiskRead</td>\n",
       "      <td>226834</td>\n",
       "      <td>p2</td>\n",
       "    </tr>\n",
       "  </tbody>\n",
       "</table>\n",
       "</div>"
      ],
      "text/plain": [
       "            Disk Operation  TimeStamp Process Name ( PID)\n",
       "0                 DiskRead     209710                 p0 \n",
       "1                 DiskRead     224548                 p1 \n",
       "2                 DiskRead     224909                 p1 \n",
       "3                 DiskRead     226255                 p2 \n",
       "4                 DiskRead     226834                 p2 "
      ]
     },
     "execution_count": 4,
     "metadata": {},
     "output_type": "execute_result"
    }
   ],
   "source": [
    "cfs = loader( 'MSNStorageCFS_sortedFrame.csv')\n",
    "cfs.head()"
   ]
  },
  {
   "cell_type": "code",
   "execution_count": 7,
   "metadata": {},
   "outputs": [],
   "source": [
    "def convert(df):\n",
    "    ops = df.loc[:,'Disk Operation'].unique()\n",
    "    ops_dict = {ops[i]: 0 if 'Read' in ops[i] else 1 for i in range(len(ops))}\n",
    "    pids = df.loc[:,'Process Name ( PID)'].unique()\n",
    "    pids_dict = {pids[i]: i for i in range(len(pids))}\n",
    "    # DataFrame.replace() can take nested dictionaries\n",
    "    # For a DataFrame nested dictionaries, e.g., {'a': {'b': np.nan}}, \n",
    "    # are read as follows: look in column ‘a’ for the value ‘b’ and replace \n",
    "    # it with NaN. The value parameter should be None to use a nested dict\n",
    "    # in this way. \n",
    "    # You can nest regular expressions as well. \n",
    "    \n",
    "    df.replace({'Disk Operation': ops_dict,\n",
    "               'Process Name ( PID)':pids_dict},\n",
    "               inplace = True)\n",
    "    del ops,ops_dict,pids,pids_dict\n",
    "    gc.collect()\n",
    "    return df"
   ]
  },
  {
   "cell_type": "code",
   "execution_count": 6,
   "metadata": {},
   "outputs": [
    {
     "name": "stdout",
     "output_type": "stream",
     "text": [
      "{'               DiskRead': 0, '              DiskWrite': 1, 'DiskRead': 0, '      DiskRead': 0, '        DiskRead': 0, '    DiskRead': 0, '  DiskRead': 0, '   DiskRead': 0, '         DiskRead': 0, '       DiskRead': 0, '             DiskRead': 0, '     DiskRead': 0, '              DiskRead': 0, '            DiskRead': 0, ' DiskRead': 0, '          DiskRead': 0, 'DiskWrite': 1, '     DiskWrite': 1, '           DiskRead': 0, '  DiskWrite': 1, '          DiskWrite': 1, '        DiskWrite': 1, '       DiskWrite': 1, '            DiskWrite': 1, '      DiskWrite': 1, ' DiskWrite': 1, '   DiskWrite': 1, '           DiskWrite': 1, '         DiskWrite': 1, '             DiskWrite': 1, '    DiskWrite': 1} {' p0 ': 0, ' p1 ': 1, ' p2 ': 2, ' p3 ': 3, ' p4 ': 4, ' p5 ': 5, ' p6 ': 6, ' p7 ': 7, ' p8 ': 8, ' p9 ': 9, ' p10 ': 10, ' p11 ': 11, ' p12 ': 12, ' p13 ': 13, ' p14 ': 14, ' p15 ': 15, ' p16 ': 16}\n"
     ]
    },
    {
     "data": {
      "text/html": [
       "<div>\n",
       "<style scoped>\n",
       "    .dataframe tbody tr th:only-of-type {\n",
       "        vertical-align: middle;\n",
       "    }\n",
       "\n",
       "    .dataframe tbody tr th {\n",
       "        vertical-align: top;\n",
       "    }\n",
       "\n",
       "    .dataframe thead th {\n",
       "        text-align: right;\n",
       "    }\n",
       "</style>\n",
       "<table border=\"1\" class=\"dataframe\">\n",
       "  <thead>\n",
       "    <tr style=\"text-align: right;\">\n",
       "      <th></th>\n",
       "      <th>Disk Operation</th>\n",
       "      <th>TimeStamp</th>\n",
       "      <th>Process Name ( PID)</th>\n",
       "    </tr>\n",
       "  </thead>\n",
       "  <tbody>\n",
       "    <tr>\n",
       "      <th>0</th>\n",
       "      <td>0</td>\n",
       "      <td>209710</td>\n",
       "      <td>0</td>\n",
       "    </tr>\n",
       "    <tr>\n",
       "      <th>1</th>\n",
       "      <td>0</td>\n",
       "      <td>224548</td>\n",
       "      <td>1</td>\n",
       "    </tr>\n",
       "    <tr>\n",
       "      <th>2</th>\n",
       "      <td>0</td>\n",
       "      <td>224909</td>\n",
       "      <td>1</td>\n",
       "    </tr>\n",
       "    <tr>\n",
       "      <th>3</th>\n",
       "      <td>0</td>\n",
       "      <td>226255</td>\n",
       "      <td>2</td>\n",
       "    </tr>\n",
       "    <tr>\n",
       "      <th>4</th>\n",
       "      <td>0</td>\n",
       "      <td>226834</td>\n",
       "      <td>2</td>\n",
       "    </tr>\n",
       "  </tbody>\n",
       "</table>\n",
       "</div>"
      ],
      "text/plain": [
       "   Disk Operation  TimeStamp  Process Name ( PID)\n",
       "0               0     209710                    0\n",
       "1               0     224548                    1\n",
       "2               0     224909                    1\n",
       "3               0     226255                    2\n",
       "4               0     226834                    2"
      ]
     },
     "execution_count": 6,
     "metadata": {},
     "output_type": "execute_result"
    }
   ],
   "source": [
    "cfs = convert(cfs)\n",
    "cfs.head()"
   ]
  },
  {
   "cell_type": "raw",
   "metadata": {},
   "source": [
    "{'               DiskRead': 0,\n",
    " '              DiskWrite': 1, \n",
    " 'DiskRead': 2,\n",
    " '      DiskRead': 3,\n",
    " '        DiskRead': 4,\n",
    " '    DiskRead': 5,\n",
    " '  DiskRead': 6,\n",
    " '   DiskRead': 7,\n",
    " '         DiskRead': 8,\n",
    " '       DiskRead': 9,\n",
    " '             DiskRead': 10,\n",
    " '     DiskRead': 11,\n",
    " '              DiskRead': 12,\n",
    " '            DiskRead': 13,\n",
    " ' DiskRead': 14,\n",
    " '          DiskRead': 15,\n",
    " 'DiskWrite': 16,\n",
    " '     DiskWrite': 17,\n",
    " '           DiskRead': 18,\n",
    " '  DiskWrite': 19,\n",
    " '          DiskWrite': 20,\n",
    " '        DiskWrite': 21,\n",
    " '       DiskWrite': 22, \n",
    " '            DiskWrite': 23,\n",
    " '      DiskWrite': 24,\n",
    " ' DiskWrite': 25,\n",
    " '   DiskWrite': 26,\n",
    " '           DiskWrite': 27,\n",
    " '         DiskWrite': 28,\n",
    " '             DiskWrite': 29,\n",
    " '    DiskWrite': 30\n",
    "}"
   ]
  },
  {
   "cell_type": "code",
   "execution_count": 8,
   "metadata": {},
   "outputs": [
    {
     "data": {
      "text/html": [
       "<div>\n",
       "<style scoped>\n",
       "    .dataframe tbody tr th:only-of-type {\n",
       "        vertical-align: middle;\n",
       "    }\n",
       "\n",
       "    .dataframe tbody tr th {\n",
       "        vertical-align: top;\n",
       "    }\n",
       "\n",
       "    .dataframe thead th {\n",
       "        text-align: right;\n",
       "    }\n",
       "</style>\n",
       "<table border=\"1\" class=\"dataframe\">\n",
       "  <thead>\n",
       "    <tr style=\"text-align: right;\">\n",
       "      <th></th>\n",
       "      <th>Disk Operation</th>\n",
       "      <th>TimeStamp</th>\n",
       "      <th>Process Name ( PID)</th>\n",
       "    </tr>\n",
       "  </thead>\n",
       "  <tbody>\n",
       "    <tr>\n",
       "      <th>0</th>\n",
       "      <td>0</td>\n",
       "      <td>209710</td>\n",
       "      <td>0</td>\n",
       "    </tr>\n",
       "    <tr>\n",
       "      <th>1</th>\n",
       "      <td>0</td>\n",
       "      <td>224548</td>\n",
       "      <td>1</td>\n",
       "    </tr>\n",
       "    <tr>\n",
       "      <th>2</th>\n",
       "      <td>0</td>\n",
       "      <td>224909</td>\n",
       "      <td>1</td>\n",
       "    </tr>\n",
       "    <tr>\n",
       "      <th>3</th>\n",
       "      <td>0</td>\n",
       "      <td>226255</td>\n",
       "      <td>2</td>\n",
       "    </tr>\n",
       "    <tr>\n",
       "      <th>4</th>\n",
       "      <td>0</td>\n",
       "      <td>226834</td>\n",
       "      <td>2</td>\n",
       "    </tr>\n",
       "    <tr>\n",
       "      <th>5</th>\n",
       "      <td>0</td>\n",
       "      <td>301093</td>\n",
       "      <td>3</td>\n",
       "    </tr>\n",
       "    <tr>\n",
       "      <th>6</th>\n",
       "      <td>0</td>\n",
       "      <td>306082</td>\n",
       "      <td>3</td>\n",
       "    </tr>\n",
       "    <tr>\n",
       "      <th>7</th>\n",
       "      <td>1</td>\n",
       "      <td>311896</td>\n",
       "      <td>3</td>\n",
       "    </tr>\n",
       "    <tr>\n",
       "      <th>8</th>\n",
       "      <td>0</td>\n",
       "      <td>314417</td>\n",
       "      <td>3</td>\n",
       "    </tr>\n",
       "    <tr>\n",
       "      <th>9</th>\n",
       "      <td>0</td>\n",
       "      <td>317376</td>\n",
       "      <td>3</td>\n",
       "    </tr>\n",
       "    <tr>\n",
       "      <th>10</th>\n",
       "      <td>1</td>\n",
       "      <td>320299</td>\n",
       "      <td>3</td>\n",
       "    </tr>\n",
       "    <tr>\n",
       "      <th>11</th>\n",
       "      <td>0</td>\n",
       "      <td>322853</td>\n",
       "      <td>3</td>\n",
       "    </tr>\n",
       "    <tr>\n",
       "      <th>12</th>\n",
       "      <td>0</td>\n",
       "      <td>324048</td>\n",
       "      <td>3</td>\n",
       "    </tr>\n",
       "    <tr>\n",
       "      <th>13</th>\n",
       "      <td>1</td>\n",
       "      <td>330732</td>\n",
       "      <td>3</td>\n",
       "    </tr>\n",
       "    <tr>\n",
       "      <th>14</th>\n",
       "      <td>0</td>\n",
       "      <td>334173</td>\n",
       "      <td>3</td>\n",
       "    </tr>\n",
       "    <tr>\n",
       "      <th>15</th>\n",
       "      <td>1</td>\n",
       "      <td>335114</td>\n",
       "      <td>3</td>\n",
       "    </tr>\n",
       "    <tr>\n",
       "      <th>16</th>\n",
       "      <td>0</td>\n",
       "      <td>336855</td>\n",
       "      <td>3</td>\n",
       "    </tr>\n",
       "    <tr>\n",
       "      <th>17</th>\n",
       "      <td>1</td>\n",
       "      <td>343580</td>\n",
       "      <td>3</td>\n",
       "    </tr>\n",
       "    <tr>\n",
       "      <th>18</th>\n",
       "      <td>0</td>\n",
       "      <td>344316</td>\n",
       "      <td>3</td>\n",
       "    </tr>\n",
       "    <tr>\n",
       "      <th>19</th>\n",
       "      <td>0</td>\n",
       "      <td>349513</td>\n",
       "      <td>3</td>\n",
       "    </tr>\n",
       "  </tbody>\n",
       "</table>\n",
       "</div>"
      ],
      "text/plain": [
       "    Disk Operation  TimeStamp  Process Name ( PID)\n",
       "0                0     209710                    0\n",
       "1                0     224548                    1\n",
       "2                0     224909                    1\n",
       "3                0     226255                    2\n",
       "4                0     226834                    2\n",
       "5                0     301093                    3\n",
       "6                0     306082                    3\n",
       "7                1     311896                    3\n",
       "8                0     314417                    3\n",
       "9                0     317376                    3\n",
       "10               1     320299                    3\n",
       "11               0     322853                    3\n",
       "12               0     324048                    3\n",
       "13               1     330732                    3\n",
       "14               0     334173                    3\n",
       "15               1     335114                    3\n",
       "16               0     336855                    3\n",
       "17               1     343580                    3\n",
       "18               0     344316                    3\n",
       "19               0     349513                    3"
      ]
     },
     "execution_count": 8,
     "metadata": {},
     "output_type": "execute_result"
    }
   ],
   "source": [
    "cfs.head(20)"
   ]
  },
  {
   "cell_type": "code",
   "execution_count": 9,
   "metadata": {},
   "outputs": [
    {
     "data": {
      "text/plain": [
       "4477226"
      ]
     },
     "execution_count": 9,
     "metadata": {},
     "output_type": "execute_result"
    }
   ],
   "source": [
    "len(cfs)"
   ]
  },
  {
   "cell_type": "code",
   "execution_count": 10,
   "metadata": {},
   "outputs": [],
   "source": [
    "start = min(cfs['TimeStamp'])\n",
    "end = max(cfs['TimeStamp'])"
   ]
  },
  {
   "cell_type": "code",
   "execution_count": 11,
   "metadata": {},
   "outputs": [
    {
     "name": "stdout",
     "output_type": "stream",
     "text": [
      "duration of traces: 604.517407 s\n"
     ]
    }
   ],
   "source": [
    "## everything is in micro seconds\n",
    "## converting the duration from us to s\n",
    "duration = (end-start)/(10**6)\n",
    "print(\"duration of traces: {} s\".format(duration))"
   ]
  },
  {
   "cell_type": "code",
   "execution_count": 16,
   "metadata": {},
   "outputs": [],
   "source": [
    "cfs.sort_values(by='TimeStamp',kind='mergesort',inplace = True)"
   ]
  },
  {
   "cell_type": "code",
   "execution_count": 29,
   "metadata": {},
   "outputs": [],
   "source": [
    "deltas = []\n",
    "for i in range(len(cfs)):\n",
    "    if i <= 1:\n",
    "        continue\n",
    "    deltas += (cfs.loc[i,'TimeStamp']-cfs.loc[i-1,'TimeStamp']),"
   ]
  },
  {
   "cell_type": "code",
   "execution_count": 30,
   "metadata": {},
   "outputs": [
    {
     "data": {
      "text/plain": [
       "[<matplotlib.lines.Line2D at 0x21417a059e8>]"
      ]
     },
     "execution_count": 30,
     "metadata": {},
     "output_type": "execute_result"
    },
    {
     "data": {
      "image/png": "[encoded data removed]",
      "text/plain": [
       "<Figure size 432x288 with 1 Axes>"
      ]
     },
     "metadata": {},
     "output_type": "display_data"
    }
   ],
   "source": [
    "plt.plot([i for i in range(len(deltas))],deltas)"
   ]
  },
  {
   "cell_type": "code",
   "execution_count": 32,
   "metadata": {},
   "outputs": [
    {
     "data": {
      "text/plain": [
       "4477224"
      ]
     },
     "execution_count": 32,
     "metadata": {},
     "output_type": "execute_result"
    }
   ],
   "source": [
    "len(deltas)"
   ]
  },
  {
   "cell_type": "code",
   "execution_count": 31,
   "metadata": {},
   "outputs": [
    {
     "data": {
      "text/plain": [
       "[<matplotlib.lines.Line2D at 0x2140c46c2b0>]"
      ]
     },
     "execution_count": 31,
     "metadata": {},
     "output_type": "execute_result"
    },
    {
     "data": {
      "image/png": "[encoded data removed]",
      "text/plain": [
       "<Figure size 432x288 with 1 Axes>"
      ]
     },
     "metadata": {},
     "output_type": "display_data"
    }
   ],
   "source": [
    "plt.plot([i for i in range(1000)],deltas[:1000])"
   ]
  },
  {
   "cell_type": "code",
   "execution_count": 33,
   "metadata": {},
   "outputs": [
    {
     "data": {
      "text/plain": [
       "[<matplotlib.lines.Line2D at 0x2140c50e780>]"
      ]
     },
     "execution_count": 33,
     "metadata": {},
     "output_type": "execute_result"
    },
    {
     "data": {
      "image/png": "[encoded data removed]",
      "text/plain": [
       "<Figure size 432x288 with 1 Axes>"
      ]
     },
     "metadata": {},
     "output_type": "display_data"
    }
   ],
   "source": [
    "plt.plot([i for i in range(10000)],deltas[-10000:])"
   ]
  },
  {
   "cell_type": "code",
   "execution_count": 28,
   "metadata": {},
   "outputs": [
    {
     "data": {
      "text/plain": [
       "array([2116819616910], dtype=int64)"
      ]
     },
     "execution_count": 28,
     "metadata": {},
     "output_type": "execute_result"
    }
   ],
   "source": [
    "np.correlate(deltas[:-100],deltas[100:])"
   ]
  },
  {
   "cell_type": "code",
   "execution_count": null,
   "metadata": {},
   "outputs": [],
   "source": []
  }
 ],
 "metadata": {
  "kernelspec": {
   "display_name": "Python 3",
   "language": "python",
   "name": "python3"
  },
  "language_info": {
   "codemirror_mode": {
    "name": "ipython",
    "version": 3
   },
   "file_extension": ".py",
   "mimetype": "text/x-python",
   "name": "python",
   "nbconvert_exporter": "python",
   "pygments_lexer": "ipython3",
   "version": "3.6.2"
  }
 },
 "nbformat": 4,
 "nbformat_minor": 2
}
